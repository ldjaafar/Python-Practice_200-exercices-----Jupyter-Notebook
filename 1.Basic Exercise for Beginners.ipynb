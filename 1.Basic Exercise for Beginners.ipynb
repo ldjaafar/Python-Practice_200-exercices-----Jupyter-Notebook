{
 "cells": [
  {
   "cell_type": "markdown",
   "metadata": {},
   "source": [
    "Excercise 1: Swap the number without using third varible"
   ]
  },
  {
   "cell_type": "code",
   "execution_count": null,
   "metadata": {},
   "outputs": [],
   "source": [
    "x=input('give me a number:')\n",
    "y=input('give me another number:')\n",
    "swap = x\n",
    "x = y\n",
    "y = swap\n",
    "print('x is now', x)\n",
    "print('y is now', y)"
   ]
  },
  {
   "cell_type": "markdown",
   "metadata": {},
   "source": [
    "Exercise 2: Write a Program to extract each digit from an integer in the reverse order.\n",
    "For example, If the given int is 7536, the output shall be “6 3 5 7“, with a space separating the digits."
   ]
  },
  {
   "cell_type": "code",
   "execution_count": null,
   "metadata": {},
   "outputs": [],
   "source": [
    "#first solution\n",
    "x = input('give me a number:')\n",
    "y=''.join(reversed(x))\n",
    "print(y)"
   ]
  },
  {
   "cell_type": "code",
   "execution_count": null,
   "metadata": {},
   "outputs": [],
   "source": [
    "#second solution\n",
    "x = input('give me a number:')\n",
    "x = x[::-1]\n",
    "print(x)"
   ]
  },
  {
   "cell_type": "markdown",
   "metadata": {},
   "source": [
    "Excercise 3: Write a program that will give you the sum of 3 digits"
   ]
  },
  {
   "cell_type": "code",
   "execution_count": null,
   "metadata": {},
   "outputs": [],
   "source": [
    "#first solution\n",
    "x=input('enter a number with 3 digits:')\n",
    "if len(x) != 3:\n",
    "    print(\"Error: The number must have exactly 3 digits.\")\n",
    "else:\n",
    "    list_x = list(x)\n",
    "    sum = 0\n",
    "    for digit in list_x:\n",
    "        sum += int(digit)\n",
    "    print(\"The sum of the digits is:\", sum)\n"
   ]
  },
  {
   "cell_type": "code",
   "execution_count": null,
   "metadata": {},
   "outputs": [],
   "source": [
    "#second solution\n",
    "x=input('enter a number with 3 digits:')\n",
    "if len(x) != 3:\n",
    "    print(\"Error: The number must have exactly 3 digits.\")\n",
    "else:\n",
    "    y = int(x)\n",
    "    s= 0\n",
    "    while y > 0:\n",
    "        digit = y % 10\n",
    "        y = y // 10\n",
    "        s += digit\n",
    "    print(\"The sum of the digits is:\", s)\n",
    "    "
   ]
  },
  {
   "cell_type": "markdown",
   "metadata": {},
   "source": [
    "Excercise 4: Write a program that will reverse a four digit number.Also it checks whether the reverse is true."
   ]
  },
  {
   "cell_type": "code",
   "execution_count": null,
   "metadata": {},
   "outputs": [],
   "source": [
    "#first solution\n",
    "x=input('enter a number with 4 digits:')\n",
    "if len(x) != 4:\n",
    "    print(\"Error: The number must have exactly 4 digits.\")\n",
    "else:\n",
    "    list_x = list(x)\n",
    "    inverse_list = list_x[::-1]\n",
    "    inverted_number = ''.join(inverse_list)\n",
    "    print(\"The inverted number is:\", inverted_number)"
   ]
  },
  {
   "cell_type": "code",
   "execution_count": null,
   "metadata": {},
   "outputs": [],
   "source": [
    "#second solution\n",
    "x=input('enter a number with 4 digits:')\n",
    "if len(x) != 4:\n",
    "    print(\"Error: The number must have exactly 4 digits.\")\n",
    "else:\n",
    "    list_x = list(x)\n",
    "    inverted_number = ''.join(reversed(list_x))\n",
    "    print(\"The inverted number is:\", inverted_number)"
   ]
  },
  {
   "cell_type": "markdown",
   "metadata": {},
   "source": [
    "Excercise 5: Write a program to find the euclidean distance between two coordinates."
   ]
  },
  {
   "cell_type": "code",
   "execution_count": null,
   "metadata": {},
   "outputs": [],
   "source": [
    "#first solution\n",
    "import math\n",
    "x1 = float(input(\"Enter x1: \"))\n",
    "y1 = float(input(\"Enter y1: \"))\n",
    "x2 = float(input(\"Enter x2: \"))\n",
    "y2 = float(input(\"Enter y2: \"))\n",
    "distance = math.sqrt((x2 - x1)**2 + (y2 - y1)**2)\n",
    "print(\"The distance between the points is:\", distance)\n"
   ]
  },
  {
   "cell_type": "code",
   "execution_count": null,
   "metadata": {},
   "outputs": [],
   "source": [
    "#second solution\n",
    "x1 = float(input(\"Enter x1: \"))\n",
    "y1 = float(input(\"Enter y1: \"))\n",
    "x2 = float(input(\"Enter x2: \"))\n",
    "y2 = float(input(\"Enter y2: \"))\n",
    "distance = ((x2 - x1)**2 + (y2 - y1)**2)**0.5\n",
    "print(\"The distance between the points is:\", distance)"
   ]
  },
  {
   "cell_type": "code",
   "execution_count": null,
   "metadata": {},
   "outputs": [],
   "source": [
    "#third solution\n",
    "x1=float(input(\"x1: \"))\n",
    "y1=float(input(\"y1: \"))\n",
    "x2=float(input(\"x2: \"))\n",
    "y2=float(input(\"y2: \"))\n",
    "x=[x1,y1]\n",
    "y=[x2,y2]\n",
    "print(\"=\"*100)\n",
    "print(\"Eucledian distance for given co-ordinate will be\",round(math.dist(x,y),2))\n",
    "print(\"Eucledian distance for given co-ordinate will be\",math.dist(x,y))\n"
   ]
  },
  {
   "cell_type": "markdown",
   "metadata": {},
   "source": [
    "Excercise 6: Write a program that will tell whether the given number is divisible by 3 & 6."
   ]
  },
  {
   "cell_type": "code",
   "execution_count": null,
   "metadata": {},
   "outputs": [],
   "source": [
    "x=int(input(\"Enter a number: \"))\n",
    "if x % 3 ==0 and x % 6 == 0:\n",
    "    print(\"The number is divisible by 3 and 6.\")\n",
    "else:\n",
    "    print(\"The number is not divisible by 3 and 6.\")"
   ]
  },
  {
   "cell_type": "markdown",
   "metadata": {},
   "source": [
    "Excercise 7: Write a program that will take three digits from the user and add the square of each digit."
   ]
  },
  {
   "cell_type": "code",
   "execution_count": null,
   "metadata": {},
   "outputs": [],
   "source": [
    "x= int(input(\"Enter a number with three digits: \"))\n",
    "s=0\n",
    "if len(str(x)) != 3:\n",
    "    print(\"Error: The number must have exactly 3 digits.\")\n",
    "else:\n",
    "    while x > 0:\n",
    "        digit = x % 10\n",
    "        x = x // 10\n",
    "        s += digit ** 2\n",
    "    print(\"The sum of the square of digits is:\", s)"
   ]
  },
  {
   "cell_type": "markdown",
   "metadata": {},
   "source": [
    "Excercise 8: Write a program that will check whether the number is armstrong number or not.\n",
    "An Armstrong number is one whose sum of digits raised to the power three equals the number itself. 371, for example, is an Armstrong number because 3**3 + 7**3 + 1**3 =371"
   ]
  },
  {
   "cell_type": "code",
   "execution_count": null,
   "metadata": {},
   "outputs": [],
   "source": [
    "x= int(input(\"Enter a number : \"))\n",
    "y=x\n",
    "s=0\n",
    "while x > 0:\n",
    "    digit = x % 10\n",
    "    x = x // 10\n",
    "    s += digit ** 3\n",
    "if (s == y):\n",
    "    print(\"The number is an Armstrong number.\")\n",
    "else:\n",
    "    print(\"The number is not an Armstrong number.\")"
   ]
  },
  {
   "cell_type": "markdown",
   "metadata": {},
   "source": [
    "Excercise 9:Write a program that will take user input of (4 digits number) and check whether the number is\n",
    "narcissist number or not."
   ]
  },
  {
   "cell_type": "code",
   "execution_count": null,
   "metadata": {},
   "outputs": [],
   "source": [
    "x=int(input(\"Enter a number: \"))\n",
    "l=len(str(x))\n",
    "y=x\n",
    "s=0\n",
    "while x > 0:\n",
    "    digit = x % 10\n",
    "    x = x // 10\n",
    "    s=s+digit ** l\n",
    "if (s == y):\n",
    "    print(\"The number is an Armstrong number.\")\n",
    "else:\n",
    "    print(\"The number is not an Armstrong number.\")\n",
    "    \n"
   ]
  }
 ],
 "metadata": {
  "kernelspec": {
   "display_name": "base",
   "language": "python",
   "name": "python3"
  },
  "language_info": {
   "codemirror_mode": {
    "name": "ipython",
    "version": 3
   },
   "file_extension": ".py",
   "mimetype": "text/x-python",
   "name": "python",
   "nbconvert_exporter": "python",
   "pygments_lexer": "ipython3",
   "version": "3.12.9"
  }
 },
 "nbformat": 4,
 "nbformat_minor": 2
}
