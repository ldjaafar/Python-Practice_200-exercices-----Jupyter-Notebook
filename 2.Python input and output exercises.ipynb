{
 "cells": [
  {
   "cell_type": "markdown",
   "metadata": {},
   "source": [
    "Exercise 10: Accept numbers from a user"
   ]
  },
  {
   "cell_type": "code",
   "execution_count": null,
   "metadata": {},
   "outputs": [],
   "source": [
    "x=input('enter a number please')\n",
    "if x.isdigit():\n",
    "    x=int(x)\n",
    "    print('the number is',x)\n",
    "else:\n",
    "    print('the input is not a number')"
   ]
  },
  {
   "cell_type": "markdown",
   "metadata": {},
   "source": [
    "Exercise 11: Display three string “Name”, “Is”, “James” as “Name ** Is ** James”"
   ]
  },
  {
   "cell_type": "code",
   "execution_count": null,
   "metadata": {},
   "outputs": [],
   "source": [
    "x=input('enter 1st string please')\n",
    "y=input('enter 2nd string please')\n",
    "z=input('enter 3rd string please')\n",
    "print('the strings are :',x,y,z,sep='**')"
   ]
  },
  {
   "cell_type": "markdown",
   "metadata": {},
   "source": [
    "Exercise 12: Convert Decimal number to octal using print() output formatting \n",
    "\n",
    "The octal number of decimal number 8 is 10"
   ]
  },
  {
   "cell_type": "code",
   "execution_count": null,
   "metadata": {},
   "outputs": [],
   "source": [
    "x=int(input('enter a decimal number please'))\n",
    "y=oct(x)[2:]\n",
    "print('the octal number is',y)"
   ]
  },
  {
   "cell_type": "markdown",
   "metadata": {},
   "source": [
    "Exercise 13: Display float number with 2 decimal places using print()"
   ]
  },
  {
   "cell_type": "code",
   "execution_count": null,
   "metadata": {},
   "outputs": [],
   "source": [
    "#first solution\n",
    "x=float(input('enter a decimal number please'))\n",
    "print('the number is {:.2f}'.format(x))"
   ]
  },
  {
   "cell_type": "code",
   "execution_count": null,
   "metadata": {},
   "outputs": [],
   "source": [
    "#seconf solution\n",
    "x=float(input('enter a decimal number please'))\n",
    "print('the number is',round(x,2))"
   ]
  },
  {
   "cell_type": "markdown",
   "metadata": {},
   "source": [
    "Excercise 14:Print all factors of a given number provided by the user. (Number divisors)\n",
    " \n",
    "enter the number: 45\n",
    "\n",
    "1 3 5 9 15 45"
   ]
  },
  {
   "cell_type": "code",
   "execution_count": null,
   "metadata": {},
   "outputs": [],
   "source": [
    "#first solution\n",
    "x=int(input('enter a number please'))\n",
    "l=[]\n",
    "for i in range(1,x+1):\n",
    "    if x%i==0:\n",
    "        l.append(i)\n",
    "print('the factors of the number are',l)"
   ]
  },
  {
   "cell_type": "code",
   "execution_count": null,
   "metadata": {},
   "outputs": [],
   "source": [
    "#second solution\n",
    "x=int(input('enter a number please'))\n",
    "l=[]\n",
    "for i in range(1, int(x**0.5) + 1):\n",
    "    if x%i == 0:\n",
    "        l.append(i)\n",
    "        if i != x//i:  # avoid duplicating perfect square factors\n",
    "            l.append(x//i)\n",
    "l.sort()  # sort the factors in ascending order\n",
    "print('the factors of the number are', l)"
   ]
  },
  {
   "cell_type": "markdown",
   "metadata": {},
   "source": [
    "Exercise 15: Accept a list of 5 float numbers as an input from the user"
   ]
  },
  {
   "cell_type": "code",
   "execution_count": null,
   "metadata": {},
   "outputs": [],
   "source": [
    "nbr=0\n",
    "l=[]\n",
    "while nbr<5:\n",
    "    x=input('enter a number please')\n",
    "    if(x.isdigit()):\n",
    "        nbr +=1\n",
    "        l.append(float(x))\n",
    "    else:\n",
    "        print('the input is not a number')\n",
    "        continue\n",
    "print('the numbers list is',l)"
   ]
  },
  {
   "cell_type": "markdown",
   "metadata": {},
   "source": [
    "Exercise 16: Write all content of a given file into a new file by skipping line number 5"
   ]
  },
  {
   "cell_type": "code",
   "execution_count": null,
   "metadata": {},
   "outputs": [],
   "source": [
    "with open('file_ex16.txt', 'r') as f1, open('w_file_ex16.txt', 'w') as f2:\n",
    "    lines = f1.readlines()\n",
    "    i=1\n",
    "    for line in lines:\n",
    "        if (i==5) :\n",
    "            i+=1\n",
    "            continue\n",
    "        else :\n",
    "            f2.write(line)\n",
    "        i+=1"
   ]
  },
  {
   "cell_type": "markdown",
   "metadata": {},
   "source": [
    "Exercise 17: Accept any three string from one input() call"
   ]
  },
  {
   "cell_type": "code",
   "execution_count": null,
   "metadata": {},
   "outputs": [],
   "source": [
    "x,y,z = input('enter three strings  :').split()\n",
    "print('The strings are:', x, y, z)"
   ]
  },
  {
   "cell_type": "markdown",
   "metadata": {},
   "source": [
    "Exercise 18: Format variables using a string.format() method. \n",
    "\n",
    "Write a program to use string.format() method to format the following three variables as per the expected output:\n",
    "\n",
    "I have 1000 dollars so I can buy 3 football for 450.00 dollars"
   ]
  },
  {
   "cell_type": "code",
   "execution_count": null,
   "metadata": {},
   "outputs": [],
   "source": [
    "x= int(input('enter total money :'))\n",
    "y= int(input('enter quantity :'))\n",
    "z= float(input('enter price :'))\n",
    "print(('I have {} dollars so I can buy {} football for {:.2f} dollars').format(x,y,z))"
   ]
  },
  {
   "cell_type": "markdown",
   "metadata": {},
   "source": [
    "Exercise 19: Check file is empty or not \n",
    "\n",
    "Write a program to check if the given file is empty or not"
   ]
  },
  {
   "cell_type": "code",
   "execution_count": null,
   "metadata": {},
   "outputs": [],
   "source": [
    "#first solution\n",
    "with open('file_ex19.txt','r') as f:\n",
    "    s = f.read()\n",
    "    if (len(s)==0):\n",
    "        print(\"empty file\")\n",
    "    else :\n",
    "        print('file is not empty')"
   ]
  },
  {
   "cell_type": "code",
   "execution_count": null,
   "metadata": {},
   "outputs": [],
   "source": [
    "#second solution\n",
    "import os\n",
    "size = os.stat('file_ex19.txt').st_size\n",
    "if(size ==0):\n",
    "    print('empty file')\n",
    "else :\n",
    "    print('file is not empty')"
   ]
  },
  {
   "cell_type": "markdown",
   "metadata": {},
   "source": [
    "Exercise 20: Read line number 4 from the following file"
   ]
  },
  {
   "cell_type": "code",
   "execution_count": null,
   "metadata": {},
   "outputs": [],
   "source": [
    "with open('file_ex20.txt','r') as f:\n",
    "    lines = f.readlines()\n",
    "    print(lines[3])"
   ]
  },
  {
   "cell_type": "markdown",
   "metadata": {},
   "source": [
    "excercise 21: Write a program to find the simple interest when the value of principle,rate of interest and time period is given."
   ]
  },
  {
   "cell_type": "code",
   "execution_count": null,
   "metadata": {},
   "outputs": [],
   "source": [
    "x=float(input('enter the principle value :'))\n",
    "y = float(input('enter the rate of interest :'))\n",
    "z= float(input('the time period :'))\n",
    "interest = x*y*z/100\n",
    "print('the simple interest is : ',interest)"
   ]
  },
  {
   "cell_type": "markdown",
   "metadata": {},
   "source": [
    "Excercise 22: Write a program to find the volume of the cylinder. Also find the cost when ,when the cost of 1litre milk is 40Rs."
   ]
  },
  {
   "cell_type": "code",
   "execution_count": null,
   "metadata": {},
   "outputs": [],
   "source": [
    "import math\n",
    "r= float(input('enter the radius in cm :'))\n",
    "h = float(input('enter the hight in cm :'))\n",
    "v=math.pi * h * r ** 2\n",
    "litre = v/1000\n",
    "cost = 40 * litre\n",
    "print('the volume is :',v) \n",
    "print('the cost is :',cost)"
   ]
  }
 ],
 "metadata": {
  "kernelspec": {
   "display_name": "base",
   "language": "python",
   "name": "python3"
  },
  "language_info": {
   "codemirror_mode": {
    "name": "ipython",
    "version": 3
   },
   "file_extension": ".py",
   "mimetype": "text/x-python",
   "name": "python",
   "nbconvert_exporter": "python",
   "pygments_lexer": "ipython3",
   "version": "3.12.9"
  }
 },
 "nbformat": 4,
 "nbformat_minor": 2
}
